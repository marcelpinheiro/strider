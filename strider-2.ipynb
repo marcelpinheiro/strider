{
 "cells": [
  {
   "cell_type": "markdown",
   "id": "9c2d8e55",
   "metadata": {},
   "source": [
    "## Marcel Pinheiro\n",
    "## marcelpinheiro@gmail.com\n"
   ]
  },
  {
   "cell_type": "markdown",
   "id": "a29da120",
   "metadata": {},
   "source": [
    "## Instructions"
   ]
  },
  {
   "cell_type": "code",
   "execution_count": 115,
   "id": "c484bc44",
   "metadata": {},
   "outputs": [
    {
     "name": "stdout",
     "output_type": "stream",
     "text": [
      "Requirement already satisfied: pyspark in c:\\python\\python310\\lib\\site-packages (3.2.1)\n",
      "Requirement already satisfied: py4j==0.10.9.3 in c:\\python\\python310\\lib\\site-packages (from pyspark) (0.10.9.3)\n"
     ]
    },
    {
     "name": "stderr",
     "output_type": "stream",
     "text": [
      "WARNING: You are using pip version 21.2.4; however, version 22.0.3 is available.\n",
      "You should consider upgrading via the 'C:\\Python\\Python310\\python.exe -m pip install --upgrade pip' command.\n"
     ]
    }
   ],
   "source": [
    "!pip install pyspark\n"
   ]
  },
  {
   "cell_type": "code",
   "execution_count": 2,
   "id": "cd0906e0",
   "metadata": {},
   "outputs": [],
   "source": [
    "from pyspark.sql import SparkSession\n",
    "from pyspark.context import SparkContext\n",
    "import docker"
   ]
  },
  {
   "cell_type": "code",
   "execution_count": 3,
   "id": "e87a42b1",
   "metadata": {},
   "outputs": [],
   "source": [
    "sc = SparkSession.builder.appName('strider').getOrCreate()"
   ]
  },
  {
   "cell_type": "markdown",
   "id": "006f7c34",
   "metadata": {},
   "source": [
    "### External data provided by vendor"
   ]
  },
  {
   "cell_type": "markdown",
   "id": "9c017820",
   "metadata": {},
   "source": [
    "#### Authors"
   ]
  },
  {
   "cell_type": "code",
   "execution_count": 4,
   "id": "d9035256",
   "metadata": {},
   "outputs": [
    {
     "name": "stdout",
     "output_type": "stream",
     "text": [
      "+--------------------+--------------------+--------------+-----------------+\n",
      "|          birth_date|             died_at|          name|      nationality|\n",
      "+--------------------+--------------------+--------------+-----------------+\n",
      "|1956-05-07T00:00:...|                null| Josh Johnston|Guianese (French)|\n",
      "|2000-06-30T00:00:...|2042-08-07T00:00:...|     Al Hamill|        Armenians|\n",
      "|1975-12-07T00:00:...|2049-02-24T00:00:...|Wilmer Reichel|        Andorrans|\n",
      "|1930-07-14T00:00:...|1982-04-14T00:00:...| Garland Lynch|     Singaporeans|\n",
      "|1967-02-25T00:00:...|1994-01-01T00:00:...|Napoleon Terry|          Kenyans|\n",
      "+--------------------+--------------------+--------------+-----------------+\n",
      "only showing top 5 rows\n",
      "\n"
     ]
    }
   ],
   "source": [
    "authors = sc.read.json(\"data-dump\\\\authors.json\")\n",
    "authors.show(5)\n"
   ]
  },
  {
   "cell_type": "markdown",
   "id": "45d20e38",
   "metadata": {},
   "source": [
    "#### Books"
   ]
  },
  {
   "cell_type": "code",
   "execution_count": 5,
   "id": "cde0f30d",
   "metadata": {},
   "outputs": [
    {
     "name": "stdout",
     "output_type": "stream",
     "text": [
      "+--------------------+--------------------+-----+-------------------+\n",
      "|              author|                name|pages|          publisher|\n",
      "+--------------------+--------------------+-----+-------------------+\n",
      "|    Ms. Dorsey Grant|    An Evil Cradling| 6302|Harcourt Assessment|\n",
      "|     Alexa Dickinson|      As I Lay Dying| 8934|     Pavilion Books|\n",
      "|  Eneida Considine V|    Recalled to Life| 8195| Sidgwick & Jackson|\n",
      "|       Darcie Abbott|      The Waste Land| 8608|     Left Book Club|\n",
      "|Salvatore Herman PhD|Bury My Heart at ...| 6376|        Cisco Press|\n",
      "+--------------------+--------------------+-----+-------------------+\n",
      "only showing top 5 rows\n",
      "\n"
     ]
    }
   ],
   "source": [
    "books = sc.read.json(\"data-dump\\\\books.json\")\n",
    "books.show(5)"
   ]
  },
  {
   "cell_type": "markdown",
   "id": "2e4bf7f0",
   "metadata": {},
   "source": [
    "#### Reviews"
   ]
  },
  {
   "cell_type": "code",
   "execution_count": 6,
   "id": "978da465",
   "metadata": {},
   "outputs": [
    {
     "name": "stdout",
     "output_type": "stream",
     "text": [
      "+------------------+--------------------+----+--------------------+\n",
      "|              book|               movie|rate|              resume|\n",
      "+------------------+--------------------+----+--------------------+\n",
      "|A Passage to India|Beauty and the Beast|   1|Solitudo magnam v...|\n",
      "|    The Man Within|Star Wars: Episod...|   5|Adhuc ad velum. C...|\n",
      "|       Vanity Fair|    The Big Lebowski|   1|Tersus velit asse...|\n",
      "|The Moving Toyshop|        Mary and Max|   5|Pecco quis magni....|\n",
      "|     Endless Night|   L.A. Confidential|   3|Tyrannus audio au...|\n",
      "+------------------+--------------------+----+--------------------+\n",
      "only showing top 5 rows\n",
      "\n"
     ]
    }
   ],
   "source": [
    "reviews = sc.read.json(\"data-dump\\\\reviews.json\")\n",
    "reviews.show(5)"
   ]
  },
  {
   "cell_type": "markdown",
   "id": "e032e8ea",
   "metadata": {},
   "source": [
    "### Internal data"
   ]
  },
  {
   "cell_type": "markdown",
   "id": "86870b73",
   "metadata": {},
   "source": [
    "#### Users"
   ]
  },
  {
   "cell_type": "code",
   "execution_count": 7,
   "id": "0a35d011",
   "metadata": {},
   "outputs": [
    {
     "name": "stdout",
     "output_type": "stream",
     "text": [
      "+----------+---------+--------------------+\n",
      "|first_name|last_name|               email|\n",
      "+----------+---------+--------------------+\n",
      "|      Eddy|   Kirlin|karine@bode-rogah...|\n",
      "|     Elvia|     Conn|janet_haag@crist.biz|\n",
      "|   Ezekiel|    Block|    landon@bauch.org|\n",
      "|      Hugh| Nikolaus|grover_terry@metz...|\n",
      "|      Iona|    Huels|  clelia@wuckert.com|\n",
      "+----------+---------+--------------------+\n",
      "only showing top 5 rows\n",
      "\n"
     ]
    }
   ],
   "source": [
    "users = sc.read.csv(\"data-dump\\\\users.csv\",header=True)\n",
    "users.show(5)\n"
   ]
  },
  {
   "cell_type": "markdown",
   "id": "4cd0d767",
   "metadata": {},
   "source": [
    "#### Movies"
   ]
  },
  {
   "cell_type": "code",
   "execution_count": 8,
   "id": "8e2d31b4",
   "metadata": {},
   "outputs": [
    {
     "name": "stdout",
     "output_type": "stream",
     "text": [
      "+----------------+-------------+-----------------+-------+\n",
      "|           title|duration_mins|original_language|size_mb|\n",
      "+----------------+-------------+-----------------+-------+\n",
      "|The Great Escape|          113|           Korean|    876|\n",
      "|   The Third Man|          129|           French|   1857|\n",
      "| Cinema Paradiso|          102|          Russian|    676|\n",
      "|        Scarface|          112|         Japanese|   1236|\n",
      "|         Vertigo|          146|          Italian|    649|\n",
      "+----------------+-------------+-----------------+-------+\n",
      "only showing top 5 rows\n",
      "\n"
     ]
    }
   ],
   "source": [
    "movies = sc.read.csv(\"data-dump\\\\movies.csv\",header=True)\n",
    "movies.show(5)\n"
   ]
  },
  {
   "cell_type": "markdown",
   "id": "9de79277",
   "metadata": {},
   "source": [
    "#### Streams"
   ]
  },
  {
   "cell_type": "code",
   "execution_count": 9,
   "id": "23410021",
   "metadata": {},
   "outputs": [
    {
     "name": "stdout",
     "output_type": "stream",
     "text": [
      "+------------------------------------------+----------------------------------+------------------+----------------------------+----------------------------+\n",
      "|movie_title                               |user_email                        |size_mb           |start_at                    |end_at                      |\n",
      "+------------------------------------------+----------------------------------+------------------+----------------------------+----------------------------+\n",
      "|Full Metal Jacket                         |rodrick_bergnaum@murray.co        |613.4245936603365 |2021-12-06T19:30:19.099+0100|2021-12-07T15:44:38.177+0100|\n",
      "|Rush                                      |nolan.wintheiser@nienow-mante.name|330.524118447188  |2021-12-15T04:36:50.500+0100|2021-12-15T05:57:52.266+0100|\n",
      "|Star Wars: Episode VII - The Force Awakens|willie.baumbach@dietrich.io       |2101.559005489579 |2021-12-12T22:32:02.628+0100|2021-12-13T20:37:34.407+0100|\n",
      "|The Bridge on the River Kwai              |catalina_rath@jones.info          |1988.0439476360807|2021-12-04T20:47:05.304+0100|2021-12-05T07:13:25.683+0100|\n",
      "|3 Idiots                                  |lowell.keeling@becker-rolfson.org |625.9428853440369 |2021-12-25T14:27:16.273+0100|2021-12-26T00:22:56.738+0100|\n",
      "+------------------------------------------+----------------------------------+------------------+----------------------------+----------------------------+\n",
      "only showing top 5 rows\n",
      "\n"
     ]
    }
   ],
   "source": [
    "streams = sc.read.csv(\"data-dump\\\\streams.csv\",header=True)\n",
    "streams.show(5,False)"
   ]
  },
  {
   "cell_type": "markdown",
   "id": "b31b43e4",
   "metadata": {},
   "source": [
    "### **Phase 1** \n",
    "Build an Extract, Transform, Load (ETL) pipeline that will take this data and move it into a production-ready database that can be easily queried to answer questions for the business.\n",
    "\n",
    "\n",
    "**Solution**: I will create spark temporary views to query the data. Using this resource I don't need to storage anything in some database to be able to query the data"
   ]
  },
  {
   "cell_type": "code",
   "execution_count": 10,
   "id": "d81528bd",
   "metadata": {},
   "outputs": [],
   "source": [
    "authors.createOrReplaceTempView('authors')\n",
    "books.createOrReplaceTempView('books')\n",
    "reviews.createOrReplaceTempView('reviews')\n",
    "\n",
    "users.createOrReplaceTempView('users')\n",
    "movies.createOrReplaceTempView('movies')\n",
    "streams.createOrReplaceTempView('streams')"
   ]
  },
  {
   "cell_type": "markdown",
   "id": "5c6cb4b9",
   "metadata": {},
   "source": [
    "### Phase 2"
   ]
  },
  {
   "cell_type": "markdown",
   "id": "69716175",
   "metadata": {},
   "source": [
    "#### What percentage of the streamed movies are based on books?"
   ]
  },
  {
   "cell_type": "code",
   "execution_count": 11,
   "id": "8469b087",
   "metadata": {
    "scrolled": false
   },
   "outputs": [
    {
     "name": "stdout",
     "output_type": "stream",
     "text": [
      "+--------------------------------------+\n",
      "|PercentageOfStreamedMoviesBasedOnBooks|\n",
      "+--------------------------------------+\n",
      "|                                 93.41|\n",
      "+--------------------------------------+\n",
      "\n"
     ]
    }
   ],
   "source": [
    "sc.sql('''\n",
    "        Select round(count(distinct r.movie) * 100 / count(distinct s.movie_title),2) as PercentageOfStreamedMoviesBasedOnBooks\n",
    "        from streams s \n",
    "        left join reviews r on s.movie_title = r.movie ''').show()"
   ]
  },
  {
   "cell_type": "markdown",
   "id": "fa9930ee",
   "metadata": {},
   "source": [
    "#### How many users were watching \"Unforgiven\" on Christmas morning (between 7 am and 12 noon on December 25)?"
   ]
  },
  {
   "cell_type": "code",
   "execution_count": 16,
   "id": "6db0d1b0",
   "metadata": {},
   "outputs": [
    {
     "name": "stdout",
     "output_type": "stream",
     "text": [
      "+-------------------------------+\n",
      "|NumberOfUsersWatchingUnforgiven|\n",
      "+-------------------------------+\n",
      "|1                              |\n",
      "+-------------------------------+\n",
      "\n"
     ]
    }
   ],
   "source": [
    "sc.sql('''\n",
    "        Select \n",
    "            count(distinct user_email) NumberOfUsersWatchingUnforgiven\n",
    "            from streams s\n",
    "            where movie_title = 'Unforgiven'\n",
    "            and to_timestamp(start_at) between '2021-12-25 07:00:00.000' and '2021-12-25 12:00:00.000'                                    \n",
    "            ''').show(1000,False)\n",
    "\n",
    "# Where I live we use GMT-4"
   ]
  },
  {
   "cell_type": "markdown",
   "id": "4d4317fa",
   "metadata": {},
   "source": [
    "#### How many movies based on books written by Singaporeans authors were streamed that month?"
   ]
  },
  {
   "cell_type": "code",
   "execution_count": 13,
   "id": "ee1f3de4",
   "metadata": {},
   "outputs": [
    {
     "name": "stdout",
     "output_type": "stream",
     "text": [
      "+---------------------------+\n",
      "|count(DISTINCT movie_title)|\n",
      "+---------------------------+\n",
      "|3                          |\n",
      "+---------------------------+\n",
      "\n"
     ]
    }
   ],
   "source": [
    "sc.sql('''\n",
    "        Select            \n",
    "            count(distinct s.movie_title)\n",
    "            from streams s\n",
    "            inner join reviews r on r.movie = s.movie_title\n",
    "            inner join books b on b.name = r.book\n",
    "            inner join authors a on a.name = b.author\n",
    "            where a.nationality = 'Singaporeans'\n",
    "            and to_date(start_at) between '2021-12-01' and '2021-12-31'\n",
    "            \n",
    "            ''').show(100,False)\n",
    "\n"
   ]
  },
  {
   "cell_type": "markdown",
   "id": "d4bc0c04",
   "metadata": {},
   "source": [
    "#### What's the average streaming duration?"
   ]
  },
  {
   "cell_type": "code",
   "execution_count": 14,
   "id": "3b66986f",
   "metadata": {},
   "outputs": [
    {
     "name": "stdout",
     "output_type": "stream",
     "text": [
      "+---------------------------+\n",
      "|AvgStreamingDurationInHours|\n",
      "+---------------------------+\n",
      "|12.0                       |\n",
      "+---------------------------+\n",
      "\n"
     ]
    }
   ],
   "source": [
    "sc.sql('''\n",
    "        Select            \n",
    "            \n",
    "            Round(\n",
    "            AVG(\n",
    "                (unix_timestamp(to_timestamp(end_at)) - unix_timestamp(to_timestamp(start_at))) /3600\n",
    "                )\n",
    "                )AvgStreamingDurationInHours\n",
    "            from streams\n",
    "            \n",
    "            ''').show(100,False)\n",
    "\n"
   ]
  },
  {
   "cell_type": "markdown",
   "id": "87c83412",
   "metadata": {},
   "source": [
    "#### What's the median streaming size in gigabytes?"
   ]
  },
  {
   "cell_type": "code",
   "execution_count": 17,
   "id": "d9a17d96",
   "metadata": {},
   "outputs": [
    {
     "name": "stdout",
     "output_type": "stream",
     "text": [
      "+------------------+\n",
      "|            median|\n",
      "+------------------+\n",
      "|0.9135149380011914|\n",
      "+------------------+\n",
      "\n"
     ]
    }
   ],
   "source": [
    "sc.sql('''\n",
    "        Select            \n",
    "            percentile_approx((size_mb/1024),0.5) as median\n",
    "            \n",
    "\n",
    "            \n",
    "            from streams\n",
    "            \n",
    "            ''').show()\n",
    "\n"
   ]
  },
  {
   "cell_type": "markdown",
   "id": "c8eb8625",
   "metadata": {},
   "source": [
    "#### How many users watched at least 50% of any movie in the last week of the month (7 days)?"
   ]
  },
  {
   "cell_type": "code",
   "execution_count": 114,
   "id": "9339207b",
   "metadata": {},
   "outputs": [
    {
     "name": "stdout",
     "output_type": "stream",
     "text": [
      "+--------------------------+\n",
      "|count(DISTINCT user_email)|\n",
      "+--------------------------+\n",
      "|739                       |\n",
      "+--------------------------+\n",
      "\n",
      "+----------------------------------------+----------------+----------------------------+----------------------------+-------------+-------+-------+\n",
      "|user_email                              |movie_title     |start_at                    |end_at                      |duration_mins|diff   |perc   |\n",
      "+----------------------------------------+----------------+----------------------------+----------------------------+-------------+-------+-------+\n",
      "|leif_ryan@friesen.info                  |12 Angry Men    |2021-12-28T05:55:55.136+0100|2021-12-28T09:28:48.186+0100|50           |212.88 |425.77 |\n",
      "|rolf_west@robel.biz                     |12 Angry Men    |2021-12-27T02:41:42.737+0100|2021-12-27T15:09:17.934+0100|50           |747.58 |1495.17|\n",
      "|emilie@zboncak.name                     |12 Angry Men    |2021-12-29T05:31:54.890+0100|2021-12-29T09:31:34.451+0100|50           |239.67 |479.33 |\n",
      "|juliet_vonrueden@cummerata-cormier.net  |12 Angry Men    |2021-12-29T21:44:42.365+0100|2021-12-30T19:33:50.270+0100|50           |1309.13|2618.27|\n",
      "|michael@kling-turcotte.biz              |12 Angry Men    |2021-12-29T06:08:05.662+0100|2021-12-30T04:47:12.865+0100|50           |1359.12|2718.23|\n",
      "|dong_rau@bradtke-fadel.biz              |12 Angry Men    |2021-12-24T20:41:50.993+0100|2021-12-25T16:20:45.695+0100|50           |1178.92|2357.83|\n",
      "|kenny_schoen@funk.io                    |12 Angry Men    |2021-12-30T17:51:32.545+0100|2021-12-30T19:50:32.728+0100|50           |119.0  |238.0  |\n",
      "|lenard@dickens.info                     |12 Angry Men    |2021-12-30T07:15:57.714+0100|2021-12-30T14:30:30.181+0100|50           |434.55 |869.1  |\n",
      "|dakota@kunze.org                        |12 Angry Men    |2021-12-30T06:49:45.123+0100|2021-12-30T13:29:15.801+0100|50           |399.5  |799.0  |\n",
      "|cordia.kovacek@mcdermott-gleichner.com  |12 Angry Men    |2021-12-27T18:16:31.805+0100|2021-12-28T12:38:23.849+0100|50           |1101.87|2203.73|\n",
      "|neal@stoltenberg.info                   |12 Angry Men    |2021-12-26T04:34:26.124+0100|2021-12-26T08:44:46.717+0100|50           |250.33 |500.67 |\n",
      "|foster.volkman@emmerich.net             |12 Angry Men    |2021-12-29T16:11:13.461+0100|2021-12-30T07:21:55.306+0100|50           |910.7  |1821.4 |\n",
      "|wade_quigley@kilback.biz                |12 Angry Men    |2021-12-25T02:38:28.468+0100|2021-12-25T07:57:03.484+0100|50           |318.58 |637.17 |\n",
      "|ja_nader@parisian.info                  |12 Angry Men    |2021-12-26T00:43:34.485+0100|2021-12-26T13:22:32.134+0100|50           |758.97 |1517.93|\n",
      "|jerrell.kohler@thompson-greenfelder.info|12 Angry Men    |2021-12-27T18:12:01.688+0100|2021-12-27T23:37:40.191+0100|50           |325.65 |651.3  |\n",
      "|alden_harris@krajcik.name               |12 Angry Men    |2021-12-25T01:58:35.401+0100|2021-12-25T17:14:47.831+0100|50           |916.2  |1832.4 |\n",
      "|tobias.strosin@fritsch.name             |12 Years a Slave|2021-12-24T02:02:26.985+0100|2021-12-25T01:54:51.570+0100|89           |1432.42|1609.46|\n",
      "|sal_champlin@fahey.info                 |12 Years a Slave|2021-12-25T01:03:43.208+0100|2021-12-25T16:59:45.671+0100|89           |956.03 |1074.19|\n",
      "|laverna@wyman.info                      |12 Years a Slave|2021-12-27T09:24:13.569+0100|2021-12-27T18:31:57.364+0100|89           |547.73 |615.43 |\n",
      "|allena@crona.io                         |12 Years a Slave|2021-12-25T17:04:41.649+0100|2021-12-26T05:53:03.621+0100|89           |768.37 |863.33 |\n",
      "+----------------------------------------+----------------+----------------------------+----------------------------+-------------+-------+-------+\n",
      "only showing top 20 rows\n",
      "\n"
     ]
    }
   ],
   "source": [
    "sc.sql('''\n",
    "        Select\n",
    "            count(distinct user_email)\n",
    "            \n",
    "\n",
    "            from streams s            \n",
    "            left join movies m on m.title = s.movie_title\n",
    "            WHERE\n",
    "            \n",
    "            (((bigint(to_timestamp(end_at)))-(bigint(to_timestamp(start_at))))/(60)) * 100 / m.duration_mins >= 50\n",
    "            and to_date(start_at) >= to_date('2021-12-31') - Interval 1 week\n",
    "            ''').show(20,False)            \n",
    "\n",
    "sc.sql('''\n",
    "        Select\n",
    "            user_email,\n",
    "            movie_title,\n",
    "            start_at,\n",
    "            end_at,\n",
    "            m.duration_mins,\n",
    "            round((((bigint(to_timestamp(end_at)))-(bigint(to_timestamp(start_at))))/(60)),2) as diff,\n",
    "            round(((((bigint(to_timestamp(end_at)))-(bigint(to_timestamp(start_at))))/(60)) * 100 / m.duration_mins),2) perc\n",
    "            \n",
    "            \n",
    "\n",
    "            from streams s            \n",
    "            left join movies m on m.title = s.movie_title\n",
    "            WHERE\n",
    "            \n",
    "            (((bigint(to_timestamp(end_at)))-(bigint(to_timestamp(start_at))))/(60)) * 100 / m.duration_mins >= 50\n",
    "            and to_date(start_at) >= to_date('2021-12-31') - Interval 1 week\n",
    "                      \n",
    "            order by movie_title\n",
    "            \n",
    "            \n",
    "            ''').show(20,False)\n",
    "\n",
    "\n",
    "#It seems sometimes the user take a lot of time to watch a movie. Example:     \n",
    "#leif_ryan@friesen.info watched Angry Men starting at 2021-12-28 05:55:55 \n",
    "# and finishing at 2021-12-28 09:28:48 So it tooks 212.88 minutes to watch a 50 minutes movie. \n",
    "# If the user pauses and wacth later it will count all the period?\n",
    "            \n",
    "            \n",
    "            \n"
   ]
  },
  {
   "cell_type": "markdown",
   "id": "9a7252ae",
   "metadata": {},
   "source": [
    "### Phase 3"
   ]
  },
  {
   "cell_type": "markdown",
   "id": "8fbf26f1",
   "metadata": {},
   "source": [
    "#### In **as much detail as time provides**, describe how you would build this pipeline if you had more time for the test and planned to ship it in a production environment."
   ]
  },
  {
   "attachments": {
    "diagram_strider.jpg": {
     "image/jpeg": "[encoded data removed]"
    }
   },
   "cell_type": "markdown",
   "id": "824a7f4e",
   "metadata": {},
   "source": [
    "![diagram_strider.jpg](attachment:diagram_strider.jpg)"
   ]
  },
  {
   "cell_type": "markdown",
   "id": "566bb5e2",
   "metadata": {},
   "source": [
    "Using AWS:\n",
    "\n",
    "- I would create a Lambda script that starts an EMR transient cluster and runs a python scripts that connect into the ftp server, download the files, and work an ETL solution.\n",
    "- I chose Python because is easier to work. If I have to work with huge amount of data, i would use scala instead\n",
    "- After ETL, it would be save the data in parquet files inside the S3 (data lake)\n",
    "- When the EMR cluster finishes their job, it terminates (shutdown) automatically. I don't need a cluster running 24/7, only when the data arrives, saving costs.\n",
    "- With Glue, I can or run the Crawler to create the tables based on the parquet files and query the data using Athena, or I can create a Glue Job (that runs spark under the hood) to send the data into the database.\n",
    "- Since the data comes every day, 2am, I would choose Step Functions to orchestrate my pipeline, running in that time. It's serverless and cheap.\n",
    "- Every day the whole dataset will be downloaded, so, in step functions I would add a step to delete all the data before to load the new data the arrives from the ftp server OR i would activate the Job bookmark from Glue to loaded only the new data that arrives\n",
    "- It's common errors during the data pipeline run, like for example the ftp server down. So inside step functions, i would set catchers and retries to try to run again.\n",
    "\n",
    "    "
   ]
  }
 ],
 "metadata": {
  "kernelspec": {
   "display_name": "Python 3 (ipykernel)",
   "language": "python",
   "name": "python3"
  },
  "language_info": {
   "codemirror_mode": {
    "name": "ipython",
    "version": 3
   },
   "file_extension": ".py",
   "mimetype": "text/x-python",
   "name": "python",
   "nbconvert_exporter": "python",
   "pygments_lexer": "ipython3",
   "version": "3.10.2"
  }
 },
 "nbformat": 4,
 "nbformat_minor": 5
}
